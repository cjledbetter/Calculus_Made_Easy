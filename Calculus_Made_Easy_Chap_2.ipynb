{
  "nbformat": 4,
  "nbformat_minor": 0,
  "metadata": {
    "colab": {
      "provenance": [],
      "authorship_tag": "ABX9TyNlxQZOlTlT+snOlLAmfhNb",
      "include_colab_link": true
    },
    "kernelspec": {
      "name": "python3",
      "display_name": "Python 3"
    },
    "language_info": {
      "name": "python"
    }
  },
  "cells": [
    {
      "cell_type": "markdown",
      "metadata": {
        "id": "view-in-github",
        "colab_type": "text"
      },
      "source": [
        "<a href=\"https://colab.research.google.com/github/cjledbetter/Calculus_Made_Easy/blob/main/Calculus_Made_Easy_Chap_2.ipynb\" target=\"_parent\"><img src=\"https://colab.research.google.com/assets/colab-badge.svg\" alt=\"Open In Colab\"/></a>"
      ]
    },
    {
      "cell_type": "markdown",
      "source": [
        "<font size =\"5\">**Chapter 2: On Different Degrees of Smallness**\n",
        "</font>"
      ],
      "metadata": {
        "id": "FwcDwtOSR5EA"
      }
    },
    {
      "cell_type": "markdown",
      "source": [
        "In our processes of calculation \\\n",
        "we have to deal with small quantities \\\n",
        "of various degrees of smallness."
      ],
      "metadata": {
        "id": "qvwJbU55VQ20"
      }
    },
    {
      "cell_type": "markdown",
      "source": [
        "We also have to learn under what circumstances \\\n",
        "we may consider small quantities to be so minute \\\n",
        "that we may omit them from consideration. \\\n",
        "_Everything depends upon relative minuteness_."
      ],
      "metadata": {
        "id": "y1nWDh4KVinU"
      }
    },
    {
      "cell_type": "markdown",
      "source": [
        "Example:\n",
        "60 min. / hour; 24 hours / day; \\\n",
        "1,440 min. / day; 10,080 min. / week"
      ],
      "metadata": {
        "id": "tybdyteCV_1C"
      }
    },
    {
      "cell_type": "code",
      "execution_count": null,
      "metadata": {
        "id": "5F1Du8PvR077"
      },
      "outputs": [],
      "source": []
    },
    {
      "cell_type": "markdown",
      "source": [],
      "metadata": {
        "id": "m2ak9igeR2Vg"
      }
    }
  ]
}