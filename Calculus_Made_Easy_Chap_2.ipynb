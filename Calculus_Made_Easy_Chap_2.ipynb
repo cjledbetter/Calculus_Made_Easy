{
  "nbformat": 4,
  "nbformat_minor": 0,
  "metadata": {
    "colab": {
      "provenance": [],
      "authorship_tag": "ABX9TyMNwzt74R9kMBSdbzjgdFfD",
      "include_colab_link": true
    },
    "kernelspec": {
      "name": "python3",
      "display_name": "Python 3"
    },
    "language_info": {
      "name": "python"
    }
  },
  "cells": [
    {
      "cell_type": "markdown",
      "metadata": {
        "id": "view-in-github",
        "colab_type": "text"
      },
      "source": [
        "<a href=\"https://colab.research.google.com/github/cjledbetter/Calculus_Made_Easy/blob/main/Calculus_Made_Easy_Chap_2.ipynb\" target=\"_parent\"><img src=\"https://colab.research.google.com/assets/colab-badge.svg\" alt=\"Open In Colab\"/></a>"
      ]
    },
    {
      "cell_type": "markdown",
      "source": [
        "<font size =\"5\">**Chapter 2: On Different Degrees of Smallness**\n",
        "</font>"
      ],
      "metadata": {
        "id": "FwcDwtOSR5EA"
      }
    },
    {
      "cell_type": "markdown",
      "source": [
        "In our processes of calculation \\\n",
        "we have to deal with small quantities \\\n",
        "of various degrees of smallness."
      ],
      "metadata": {
        "id": "qvwJbU55VQ20"
      }
    },
    {
      "cell_type": "markdown",
      "source": [
        "We also have to learn under what circumstances \\\n",
        "we may consider small quantities to be so minute \\\n",
        "that we may omit them from consideration. \\\n",
        "_Everything depends upon relative minuteness_."
      ],
      "metadata": {
        "id": "y1nWDh4KVinU"
      }
    },
    {
      "cell_type": "markdown",
      "source": [
        "Example: \\\n",
        "60 min. / hour; 24 hours / day; \\\n",
        "1,440 min. / day; 10,080 min. / week"
      ],
      "metadata": {
        "id": "tybdyteCV_1C"
      }
    },
    {
      "cell_type": "markdown",
      "source": [
        "1 min : whole week (very small quantity) \\\n",
        "_1 minute considered small to hour, hence name \" one minute\" \\\n",
        "Meaning a minute fraction - namely one sixtieth of an hour. \\\n",
        "Smaller subdivision of time: \\\n",
        "1 min. ÷ 60 smaller parts called \"second minutes.\" \\\n",
        "OR \\\n",
        "small quantities of the **second order** of minuteness\n",
        "Now we call these small quantities\n",
        "of the second order of smallness \"seconds.\"_\n",
        "\n"
      ],
      "metadata": {
        "id": "vxLtw0a3XByq"
      }
    },
    {
      "cell_type": "markdown",
      "source": [
        "<font size=\"+1\">**_Now if one minute is so small as compared with a\n",
        "whole day, \\\n",
        "how much smaller by comparison is one  second!_**</font>"
      ],
      "metadata": {
        "id": "bmjAFs23ZebA"
      }
    },
    {
      "cell_type": "markdown",
      "source": [
        "Think of a 1&#162;(penny) compared to a $10 dollar bill.\n",
        "\n"
      ],
      "metadata": {
        "id": "GBpYWTxOaIqo"
      }
    },
    {
      "cell_type": "markdown",
      "source": [
        "It is worth $\\frac{1}{1000}$ part. \\\n",
        "A 1&#162; more or less is of precious little importance \\\n",
        "compared with a $10 bill.\n",
        "It certainly can be regarded as a _small_ quaintity. \\\n",
        "But comparing a 1&#162; to a $1,000 bill: \\\n",
        "relatively to this greater sum, the 1&#162; is of no more importance \\\n",
        "than $\\{1}{1000}$  of a 1&#162; to a $10 bill."
      ],
      "metadata": {
        "id": "Fyu4mIn4gjXp"
      }
    },
    {
      "cell_type": "markdown",
      "source": [
        "Now if we fix upon any numerical fraction as constituting the proportion \\\n",
        "which for any purpose we call relatively small, we can easily state other \\\n",
        "fractions of a higher degree of smallness. Thus if, \\\n",
        "for the purpose of time $\\frac{1}{60}$, be called a small fraction, \\\n",
        "then $\\frac{1}{60}$ of$\\frac{1}{60}$  \" (being a small fraction of a small \\\n",
        "fraction) may be regarded as a small quantity ofthe second order of smallness."
      ],
      "metadata": {
        "id": "Fto6QTUWcV5E"
      }
    },
    {
      "cell_type": "markdown",
      "source": [
        "If we were to take 1 per cent. (i.e., $\\frac{1}{100}$ ) as a small fraction, \\\n",
        "then 1 per cent. of 1 per cent. (i.e., $\\frac{1}{10,000}$ ) would be a small \\\n",
        "fraction of the second order of smallness; and $\\frac{1}{1,000,000}$ would be a \\\n",
        "small fraction of the third order of smallness, being 1 per cent. of 1 per cent. of 1 per cent."
      ],
      "metadata": {
        "id": "z1gIwaY9eKZl"
      }
    },
    {
      "cell_type": "markdown",
      "source": [
        "Now if one minute is so small as compared with a \\\n",
        "whole day, how much smaller by comparison is one second!"
      ],
      "metadata": {
        "id": "LYTA2hN9ghcx"
      }
    },
    {
      "cell_type": "markdown",
      "source": [
        "Then we see that the smaller a small quantity itself\n",
        "is, the more negligible does the corresponding small \\\n",
        "quantity of the second order become. Hence we\n",
        "know that in all cases we are justified in neglecting \\\n",
        "the small quantities of the second--or third (or higher)-orders, if only we take the small quantity of the first \\\n",
        "order small enough in itself."
      ],
      "metadata": {
        "id": "zre-wpwbiHpT"
      }
    },
    {
      "cell_type": "markdown",
      "source": [
        "Remember, even a penny becomes important if it is multiplied by a few hundred."
      ],
      "metadata": {
        "id": "Dc6OqLBkilOy"
      }
    },
    {
      "cell_type": "code",
      "execution_count": null,
      "metadata": {
        "id": "5F1Du8PvR077"
      },
      "outputs": [],
      "source": [
        "\n"
      ]
    },
    {
      "cell_type": "markdown",
      "source": [],
      "metadata": {
        "id": "m2ak9igeR2Vg"
      }
    },
    {
      "cell_type": "code",
      "source": [],
      "metadata": {
        "id": "Xj-Pg5_HgDSw"
      },
      "execution_count": null,
      "outputs": []
    }
  ]
}