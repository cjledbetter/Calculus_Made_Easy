{
  "nbformat": 4,
  "nbformat_minor": 0,
  "metadata": {
    "colab": {
      "provenance": [],
      "authorship_tag": "ABX9TyPz/HpThUHD9G82uG2SSRaI",
      "include_colab_link": true
    },
    "kernelspec": {
      "name": "python3",
      "display_name": "Python 3"
    },
    "language_info": {
      "name": "python"
    }
  },
  "cells": [
    {
      "cell_type": "markdown",
      "metadata": {
        "id": "view-in-github",
        "colab_type": "text"
      },
      "source": [
        "<a href=\"https://colab.research.google.com/github/cjledbetter/Calculus_Made_Easy/blob/main/Calculus_Made_Easy_1.ipynb\" target=\"_parent\"><img src=\"https://colab.research.google.com/assets/colab-badge.svg\" alt=\"Open In Colab\"/></a>"
      ]
    },
    {
      "cell_type": "markdown",
      "source": [
        "<font size=5>**Calculus Made Easy - Chapter 1**<font size>\n",
        "\n",
        "\n",
        "\n"
      ],
      "metadata": {
        "id": "f2f5Tv38SohM"
      }
    },
    {
      "cell_type": "markdown",
      "source": [
        "In Calculus - two principal symbols that are used in calculating:"
      ],
      "metadata": {
        "id": "7r1vnyN-KZ2k"
      }
    },
    {
      "cell_type": "markdown",
      "source": [
        "$d$ *which merely means \"a little bit of\"* \\\n",
        "Thus: \\\n",
        "$da$ *means a little bit of a*; \\\n",
        "OR \\\n",
        "$du$ *means a little bit of u*."
      ],
      "metadata": {
        "id": "EQ5qAFXLK9fO"
      }
    },
    {
      "cell_type": "markdown",
      "source": [
        "Ordinary mathematicians think it more polite to say\" an element of,\" \\ instead of \" a little bit of.\" \\\n",
        "But you will find that these little bits (or elements) \\\n",
        "may be considered to be indefinitely small.\n"
      ],
      "metadata": {
        "id": "gXUh2vJHMpR7"
      }
    },
    {
      "cell_type": "markdown",
      "source": [
        "$∫$ which is merely a long S, \\\n",
        "and may be called *\"the sum of.\"* \\\n",
        "$∫$$dx$ *means the sum of ali the little bits of x*; \\\n",
        "OR \\\n",
        "$∫$$dt$ *means the sum of ali the little bits of t* \\\n",
        "Ordinary mathematicians call this symbol \"the integral of\"\n"
      ],
      "metadata": {
        "id": "nLJK5CXINU2O"
      }
    },
    {
      "cell_type": "markdown",
      "source": [
        "<font size=4>Now any fool can see that if x is considered as made up of a lot of little bits, \\\n",
        "each of which is called $dx$, \\\n",
        "if you add them all up together - \\\n",
        "you get the sum of all the $da$'s, (which is the same thing as the whole of x). \\\n",
        "The word \" integral\" simply means \"the whole.\" \\\n",
        "_If you think of the duration of time for one hour, \\\n",
        "think of it as cut up into 3600 little bits called seconds. \\\n",
        "The whole of the 3600 little bits added up together make one hour._<font size>"
      ],
      "metadata": {
        "id": "7k7Eb6FZVqgR"
      }
    },
    {
      "cell_type": "markdown",
      "source": [
        "∫𝑑𝑥 ( sum of a little bit of x ) \\\n",
        "𝑥 = 1 + 1 + 1 + ... \\\n",
        "( 1 hour = 60 minutes ) \\\n",
        "( 1 minute = 60 seconds ) \\\n",
        "( 60 minutes x 60 seconds = 3600 Seconds ) \\\n",
        "( ∫𝑑𝑥 = 1 = 1 + 1 + ... [3600 seconds] )"
      ],
      "metadata": {
        "id": "0tQ_94r3ccp2"
      }
    },
    {
      "cell_type": "code",
      "execution_count": null,
      "metadata": {
        "id": "LBjR707IKWbA"
      },
      "outputs": [],
      "source": []
    },
    {
      "cell_type": "markdown",
      "source": [],
      "metadata": {
        "id": "5ey_yz2yKXZy"
      }
    }
  ]
}